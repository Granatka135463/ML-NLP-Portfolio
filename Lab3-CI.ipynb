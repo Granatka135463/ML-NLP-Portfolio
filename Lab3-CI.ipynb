{
 "cells": [
  {
   "cell_type": "markdown",
   "id": "e5f81af4-cb6b-452e-bead-6911f31f5dfb",
   "metadata": {},
   "source": [
    "## Лабораторна робота №3\n",
    "* Тема: Нечітка логіка: проєктування інтелектуального модуля.\n",
    "* Мета лабораторної роботи полягає в ознайомленні студентів із принципами нечіткої логіки та її застосуванням для проєктування інтелектуального модуля, здатного приймати рішення в умовах невизначеності та неповної інформації. Під час виконання роботи студенти навчаться формулювати нечіткі множини, визначати функції залежності, створювати правила нечіткого виведення та реалізовувати систему, що імітує процес прийняття рішень у реальних умовах. Практичний аспект полягає в розробці модуля, який на основі нечітких вхідних даних генерує обґрунтовані вихідні результати, що можуть застосовуватися для інтелектуальних систем керування, рекомендаційних сервісів або пошуку з нечіткою відповідністю.\n",
    "* Варіант №1\n",
    "* Виконала студентка групи ОІ-21сп \n",
    "* Вишинська Наталія"
   ]
  },
  {
   "cell_type": "markdown",
   "id": "75fe5ef8-1d81-4796-9477-b2f102482f14",
   "metadata": {},
   "source": [
    "### Імпорт та встановлення бібліотек "
   ]
  },
  {
   "cell_type": "code",
   "execution_count": 1,
   "id": "a36b7cb4-49ca-4d03-b4f6-6d2f885a1b80",
   "metadata": {},
   "outputs": [
    {
     "name": "stdout",
     "output_type": "stream",
     "text": [
      "Requirement already satisfied: fuzzywuzzy in c:\\programdata\\anaconda3\\lib\\site-packages (0.18.0)Note: you may need to restart the kernel to use updated packages.\n",
      "\n",
      "Requirement already satisfied: rapidfuzz in c:\\programdata\\anaconda3\\lib\\site-packages (3.13.0)\n",
      "Requirement already satisfied: python-Levenshtein in c:\\programdata\\anaconda3\\lib\\site-packages (0.27.1)\n",
      "Requirement already satisfied: scikit-fuzzy in c:\\programdata\\anaconda3\\lib\\site-packages (0.5.0)\n",
      "Requirement already satisfied: pandas in c:\\programdata\\anaconda3\\lib\\site-packages (2.2.2)\n",
      "Requirement already satisfied: numpy in c:\\programdata\\anaconda3\\lib\\site-packages (1.26.4)\n",
      "Requirement already satisfied: Levenshtein==0.27.1 in c:\\programdata\\anaconda3\\lib\\site-packages (from python-Levenshtein) (0.27.1)\n",
      "Requirement already satisfied: python-dateutil>=2.8.2 in c:\\programdata\\anaconda3\\lib\\site-packages (from pandas) (2.9.0.post0)\n",
      "Requirement already satisfied: pytz>=2020.1 in c:\\programdata\\anaconda3\\lib\\site-packages (from pandas) (2024.1)\n",
      "Requirement already satisfied: tzdata>=2022.7 in c:\\programdata\\anaconda3\\lib\\site-packages (from pandas) (2023.3)\n",
      "Requirement already satisfied: six>=1.5 in c:\\programdata\\anaconda3\\lib\\site-packages (from python-dateutil>=2.8.2->pandas) (1.16.0)\n"
     ]
    }
   ],
   "source": [
    "pip install fuzzywuzzy rapidfuzz python-Levenshtein scikit-fuzzy pandas numpy"
   ]
  },
  {
   "cell_type": "code",
   "execution_count": 2,
   "id": "aa37efc7-7528-49c7-9d5e-d16c72dde113",
   "metadata": {},
   "outputs": [
    {
     "name": "stdout",
     "output_type": "stream",
     "text": [
      "Requirement already satisfied: jellyfish in c:\\programdata\\anaconda3\\lib\\site-packages (1.0.1)\n",
      "Note: you may need to restart the kernel to use updated packages.\n"
     ]
    }
   ],
   "source": [
    "pip install jellyfish"
   ]
  },
  {
   "cell_type": "code",
   "execution_count": 3,
   "id": "a907131f-297e-4221-87a4-d82cccc00401",
   "metadata": {},
   "outputs": [],
   "source": [
    "import pandas as pd\n",
    "import numpy as np\n",
    "from rapidfuzz import fuzz, distance\n",
    "import jellyfish\n",
    "import skfuzzy as fuzz_lib\n",
    "from skfuzzy import control as ctrl\n",
    "import matplotlib.pyplot as plt\n",
    "from tabulate import tabulate"
   ]
  },
  {
   "cell_type": "markdown",
   "id": "fcab6da7-0420-43e2-a9f4-6f7b9d13c4fc",
   "metadata": {},
   "source": [
    "### Завантаження датасету"
   ]
  },
  {
   "cell_type": "code",
   "execution_count": 29,
   "id": "0a480301-474b-49d9-843c-afa26df558f6",
   "metadata": {},
   "outputs": [
    {
     "name": "stdout",
     "output_type": "stream",
     "text": [
      "Перші 5 рядків датасету:\n",
      "                 Name1               Name2\n",
      "0          Mehul Gupta         Meryl Gupta\n",
      "1    John Andrew Lewis   Jahn Andrej Levis\n",
      "2      Cyndi Eric Wood  Candice Erick Waud\n",
      "3           Mary Ellen          Mari Ehlen\n",
      "4  Carlos Alfonzo Diaz         Carlow Diez\n",
      "\n",
      "Назви колонок у датасеті: ['Name1', 'Name2']\n"
     ]
    }
   ],
   "source": [
    "# Завантаження датасету\n",
    "df = pd.read_csv(\"corner_cases_new.csv\", encoding=\"ISO-8859-1\")\n",
    "print(\"Перші 5 рядків датасету:\")\n",
    "print(df.head())\n",
    " \n",
    "# Перевіряємо назви колонок\n",
    "print(\"\\nНазви колонок у датасеті:\", df.columns.tolist())"
   ]
  },
  {
   "cell_type": "markdown",
   "id": "4c618c9c-995c-43d3-901f-f5cab3e6094a",
   "metadata": {},
   "source": [
    "### Визначення функцій"
   ]
  },
  {
   "cell_type": "code",
   "execution_count": 1,
   "id": "9b0beb67-3b85-4aa6-9e39-f8c197ba11bf",
   "metadata": {},
   "outputs": [],
   "source": [
    "def soundex_similarity(name1, name2):\n",
    "    # Обчислення Soundex схожості (0-1)\n",
    "    if pd.isna(name1) or pd.isna(name2) or not isinstance(name1, str) or not isinstance(name2, str):\n",
    "        return 0.0\n",
    "    s1 = jellyfish.soundex(name1)\n",
    "    s2 = jellyfish.soundex(name2)\n",
    "    return 1.0 if s1 == s2 else 0.5\n",
    "\n",
    "def term_length_category(term):\n",
    "    # Категоризація довжини терміну\n",
    "    if pd.isna(term) or not isinstance(term, str):\n",
    "        return \"короткий\"\n",
    "    length = len(term)\n",
    "    if length <= 5:\n",
    "        return \"короткий\"\n",
    "    elif length <= 15:\n",
    "        return \"середній\"\n",
    "    else:\n",
    "        return \"довгий\"\n",
    "\n",
    "def classic_method(jaro_winkler, soundex_sim, dam_lev):\n",
    "    # Класичний метод із порогами\n",
    "    if jaro_winkler >= 0.9 and soundex_sim == 1.0 and dam_lev <= 3:\n",
    "        return \"Належить\"\n",
    "    return \"Не належить\""
   ]
  },
  {
   "cell_type": "markdown",
   "id": "03ac61cb-30c5-4f98-b018-e05fc7220e36",
   "metadata": {},
   "source": [
    "### Додавання метрик до DataFrame"
   ]
  },
  {
   "cell_type": "code",
   "execution_count": 6,
   "id": "adbbad26-ed00-485f-af5b-7bd7dd05a4bb",
   "metadata": {},
   "outputs": [
    {
     "name": "stdout",
     "output_type": "stream",
     "text": [
      "Метрики додано до датасету!\n"
     ]
    }
   ],
   "source": [
    "df[\"Soundex_Similarity\"] = df.apply(lambda row: soundex_similarity(row[\"Name1\"], row[\"Name2\"]), axis=1)\n",
    "df[\"Length_Name1\"] = df[\"Name1\"].apply(term_length_category)\n",
    "df[\"Length_Name2\"] = df[\"Name2\"].apply(term_length_category)\n",
    "df[\"JaroWinkler_Similarity\"] = df.apply(\n",
    "    lambda row: fuzz.WRatio(row[\"Name1\"], row[\"Name2\"]) / 100 if not pd.isna(row[\"Name1\"]) and not pd.isna(row[\"Name2\"]) else 0.0, axis=1\n",
    ")\n",
    "df[\"Damerau_Levenshtein_Distance\"] = df.apply(\n",
    "    lambda row: distance.Levenshtein.distance(str(row[\"Name1\"]), str(row[\"Name2\"])) if not pd.isna(row[\"Name1\"]) and not pd.isna(row[\"Name2\"]) else 0, axis=1\n",
    ")\n",
    "print(\"Метрики додано до датасету!\")"
   ]
  },
  {
   "cell_type": "markdown",
   "id": "084865ed-6dd6-4a1d-b834-66fb3ee8e83c",
   "metadata": {},
   "source": [
    "### Визначення нечітких змінних і функцій належності"
   ]
  },
  {
   "cell_type": "code",
   "execution_count": 7,
   "id": "38a32f2b-9b34-4df6-b54d-850d02e7d096",
   "metadata": {},
   "outputs": [
    {
     "name": "stdout",
     "output_type": "stream",
     "text": [
      "Нечіткі змінні визначено!\n"
     ]
    }
   ],
   "source": [
    "similarity = ctrl.Antecedent(np.arange(0, 1.01, 0.01), 'similarity')\n",
    "phonetic = ctrl.Antecedent(np.arange(0, 1.01, 0.01), 'phonetic')\n",
    "edit_dist = ctrl.Antecedent(np.arange(0, 21, 1), 'edit_dist')\n",
    "membership = ctrl.Consequent(np.arange(0, 101, 1), 'membership')\n",
    "\n",
    "similarity['low'] = fuzz_lib.trimf(similarity.universe, [0, 0, 0.5])\n",
    "similarity['medium'] = fuzz_lib.trimf(similarity.universe, [0.3, 0.6, 0.8])\n",
    "similarity['high'] = fuzz_lib.trimf(similarity.universe, [0.7, 1, 1])\n",
    "\n",
    "phonetic['none'] = fuzz_lib.trimf(phonetic.universe, [0, 0, 0.3])\n",
    "phonetic['partial'] = fuzz_lib.trimf(phonetic.universe, [0.2, 0.5, 0.7])\n",
    "phonetic['full'] = fuzz_lib.trimf(phonetic.universe, [0.6, 1, 1])\n",
    "\n",
    "edit_dist['low'] = fuzz_lib.trimf(edit_dist.universe, [0, 0, 5])\n",
    "edit_dist['medium'] = fuzz_lib.trimf(edit_dist.universe, [3, 7, 12])\n",
    "edit_dist['high'] = fuzz_lib.trimf(edit_dist.universe, [10, 20, 20])\n",
    "\n",
    "membership['low'] = fuzz_lib.trimf(membership.universe, [0, 0, 40])\n",
    "membership['medium'] = fuzz_lib.trimf(membership.universe, [30, 50, 70])\n",
    "membership['high'] = fuzz_lib.trimf(membership.universe, [60, 100, 100])\n",
    "\n",
    "print(\"Нечіткі змінні визначено!\")"
   ]
  },
  {
   "cell_type": "markdown",
   "id": "43175c0f-f81a-4507-8166-32d880701c1d",
   "metadata": {},
   "source": [
    "### Визначення правил і системи керування"
   ]
  },
  {
   "cell_type": "code",
   "execution_count": 8,
   "id": "2875812d-1881-4dda-89a0-635ce745284a",
   "metadata": {},
   "outputs": [
    {
     "name": "stdout",
     "output_type": "stream",
     "text": [
      "Правила та система керування налаштовані!\n"
     ]
    }
   ],
   "source": [
    "rule1 = ctrl.Rule(similarity['high'] & phonetic['full'] & edit_dist['low'], membership['high'])\n",
    "rule2 = ctrl.Rule(similarity['high'] & phonetic['full'] & edit_dist['medium'], membership['high'])\n",
    "rule3 = ctrl.Rule(similarity['high'] & phonetic['partial'] & edit_dist['low'], membership['high'])\n",
    "rule4 = ctrl.Rule(similarity['medium'] & phonetic['full'] & edit_dist['low'], membership['high'])\n",
    "rule5 = ctrl.Rule(similarity['medium'] & phonetic['partial'] & edit_dist['low'], membership['medium'])\n",
    "rule6 = ctrl.Rule(similarity['medium'] & phonetic['none'] & edit_dist['low'], membership['medium'])\n",
    "rule7 = ctrl.Rule(similarity['low'] & phonetic['full'] & edit_dist['low'], membership['medium'])\n",
    "rule8 = ctrl.Rule(similarity['high'] & phonetic['none'] & edit_dist['high'], membership['low'])\n",
    "rule9 = ctrl.Rule(similarity['medium'] & phonetic['partial'] & edit_dist['high'], membership['low'])\n",
    "rule10 = ctrl.Rule(similarity['low'] & phonetic['none'] & edit_dist['high'], membership['low'])\n",
    "rule11 = ctrl.Rule(similarity['low'] & phonetic['partial'] & edit_dist['medium'], membership['low'])\n",
    "rule12 = ctrl.Rule(similarity['medium'] & phonetic['none'] & edit_dist['high'], membership['low'])\n",
    "\n",
    "membership_ctrl = ctrl.ControlSystem([rule1, rule2, rule3, rule4, rule5, rule6, rule7, rule8, rule9, rule10, rule11, rule12])\n",
    "membership_sim = ctrl.ControlSystemSimulation(membership_ctrl)\n",
    "\n",
    "print(\"Правила та система керування налаштовані!\")"
   ]
  },
  {
   "cell_type": "markdown",
   "id": "3ca96143-5101-4636-83cc-653d83b31fae",
   "metadata": {},
   "source": [
    "### Обробка даних"
   ]
  },
  {
   "cell_type": "code",
   "execution_count": 9,
   "id": "c41ad2da-14d0-4201-bca3-ef799ffc3a53",
   "metadata": {},
   "outputs": [
    {
     "name": "stdout",
     "output_type": "stream",
     "text": [
      "Обробка даних завершена!\n"
     ]
    }
   ],
   "source": [
    "fuzzy_results = []\n",
    "classic_results = []\n",
    "\n",
    "for index, row in df.iterrows():\n",
    "    name1, name2 = row[\"Name1\"], row[\"Name2\"]\n",
    "    jaro_winkler = max(0, min(1, row[\"JaroWinkler_Similarity\"]))\n",
    "    soundex_sim = max(0, min(1, row[\"Soundex_Similarity\"]))\n",
    "    dam_lev = max(0, min(20, row[\"Damerau_Levenshtein_Distance\"]))\n",
    "    \n",
    "    # Нечітка логіка\n",
    "    try:\n",
    "        membership_sim.input['similarity'] = jaro_winkler\n",
    "        membership_sim.input['phonetic'] = soundex_sim\n",
    "        membership_sim.input['edit_dist'] = dam_lev\n",
    "        membership_sim.compute()\n",
    "        probability = membership_sim.output.get('membership', 0)\n",
    "    except Exception as e:\n",
    "        print(f\"Помилка для рядка {index} (fuzzy): {e}\")\n",
    "        probability = 0\n",
    "    \n",
    "    fuzzy_decision = \"Належить\" if probability >= 70 else \"Не належить\"\n",
    "    \n",
    "    # Класичний метод\n",
    "    classic_decision = classic_method(jaro_winkler, soundex_sim, dam_lev)\n",
    "    \n",
    "    fuzzy_results.append({\n",
    "        \"Термін 1\": name1,\n",
    "        \"Термін 2\": name2,\n",
    "        \"Jaro-Winkler\": round(jaro_winkler, 2),\n",
    "        \"Soundex\": round(soundex_sim, 2),\n",
    "        \"Damerau-Levenshtein\": dam_lev,\n",
    "        \"Ймовірність належності\": round(probability),\n",
    "        \"Рішення\": fuzzy_decision\n",
    "    })\n",
    "    \n",
    "    classic_results.append({\n",
    "        \"Термін 1\": name1,\n",
    "        \"Термін 2\": name2,\n",
    "        \"Jaro-Winkler\": round(jaro_winkler, 2),\n",
    "        \"Soundex\": round(soundex_sim, 2),\n",
    "        \"Damerau-Levenshtein\": dam_lev,\n",
    "        \"Рішення\": classic_decision\n",
    "    })\n",
    "\n",
    "print(\"Обробка даних завершена!\")"
   ]
  },
  {
   "cell_type": "markdown",
   "id": "274f302e-37ca-47ac-9b46-763cbfa4a141",
   "metadata": {},
   "source": [
    "### Виведення результатів"
   ]
  },
  {
   "cell_type": "code",
   "execution_count": 71,
   "id": "a8a80dc2-4352-4a78-88af-f4ff9b4fd8d0",
   "metadata": {},
   "outputs": [
    {
     "name": "stdout",
     "output_type": "stream",
     "text": [
      "Результати нечіткої логіки та класичного методу:\n"
     ]
    },
    {
     "data": {
      "text/html": [
       "<div>\n",
       "<style scoped>\n",
       "    .dataframe tbody tr th:only-of-type {\n",
       "        vertical-align: middle;\n",
       "    }\n",
       "\n",
       "    .dataframe tbody tr th {\n",
       "        vertical-align: top;\n",
       "    }\n",
       "\n",
       "    .dataframe thead th {\n",
       "        text-align: right;\n",
       "    }\n",
       "</style>\n",
       "<table border=\"1\" class=\"dataframe\">\n",
       "  <thead>\n",
       "    <tr style=\"text-align: right;\">\n",
       "      <th></th>\n",
       "      <th>Термін 1</th>\n",
       "      <th>Термін 2</th>\n",
       "      <th>Jaro-Winkler</th>\n",
       "      <th>Soundex</th>\n",
       "      <th>Damerau-Levenshtein</th>\n",
       "      <th>Ймовірність належності</th>\n",
       "      <th>Рішення</th>\n",
       "      <th>Рішення (Classic)</th>\n",
       "    </tr>\n",
       "  </thead>\n",
       "  <tbody>\n",
       "    <tr>\n",
       "      <th>0</th>\n",
       "      <td>Mehul Gupta</td>\n",
       "      <td>Meryl Gupta</td>\n",
       "      <td>0.82</td>\n",
       "      <td>0.5</td>\n",
       "      <td>2</td>\n",
       "      <td>84</td>\n",
       "      <td>Належить</td>\n",
       "      <td>Не належить</td>\n",
       "    </tr>\n",
       "    <tr>\n",
       "      <th>1</th>\n",
       "      <td>John Andrew Lewis</td>\n",
       "      <td>Jahn Andrej Levis</td>\n",
       "      <td>0.82</td>\n",
       "      <td>1.0</td>\n",
       "      <td>3</td>\n",
       "      <td>84</td>\n",
       "      <td>Належить</td>\n",
       "      <td>Не належить</td>\n",
       "    </tr>\n",
       "    <tr>\n",
       "      <th>2</th>\n",
       "      <td>Cyndi Eric Wood</td>\n",
       "      <td>Candice Erick Waud</td>\n",
       "      <td>0.73</td>\n",
       "      <td>0.5</td>\n",
       "      <td>6</td>\n",
       "      <td>0</td>\n",
       "      <td>Не належить</td>\n",
       "      <td>Не належить</td>\n",
       "    </tr>\n",
       "    <tr>\n",
       "      <th>3</th>\n",
       "      <td>Mary Ellen</td>\n",
       "      <td>Mari Ehlen</td>\n",
       "      <td>0.80</td>\n",
       "      <td>1.0</td>\n",
       "      <td>2</td>\n",
       "      <td>83</td>\n",
       "      <td>Належить</td>\n",
       "      <td>Не належить</td>\n",
       "    </tr>\n",
       "    <tr>\n",
       "      <th>4</th>\n",
       "      <td>Carlos Alfonzo Diaz</td>\n",
       "      <td>Carlow Diez</td>\n",
       "      <td>0.70</td>\n",
       "      <td>0.5</td>\n",
       "      <td>10</td>\n",
       "      <td>0</td>\n",
       "      <td>Не належить</td>\n",
       "      <td>Не належить</td>\n",
       "    </tr>\n",
       "    <tr>\n",
       "      <th>...</th>\n",
       "      <td>...</td>\n",
       "      <td>...</td>\n",
       "      <td>...</td>\n",
       "      <td>...</td>\n",
       "      <td>...</td>\n",
       "      <td>...</td>\n",
       "      <td>...</td>\n",
       "      <td>...</td>\n",
       "    </tr>\n",
       "    <tr>\n",
       "      <th>434</th>\n",
       "      <td>Sameer</td>\n",
       "      <td>Samir</td>\n",
       "      <td>0.67</td>\n",
       "      <td>1.0</td>\n",
       "      <td>3</td>\n",
       "      <td>84</td>\n",
       "      <td>Належить</td>\n",
       "      <td>Не належить</td>\n",
       "    </tr>\n",
       "    <tr>\n",
       "      <th>435</th>\n",
       "      <td>Siya</td>\n",
       "      <td>Sia</td>\n",
       "      <td>0.75</td>\n",
       "      <td>1.0</td>\n",
       "      <td>2</td>\n",
       "      <td>82</td>\n",
       "      <td>Належить</td>\n",
       "      <td>Не належить</td>\n",
       "    </tr>\n",
       "    <tr>\n",
       "      <th>436</th>\n",
       "      <td>Tara</td>\n",
       "      <td>Tara</td>\n",
       "      <td>0.89</td>\n",
       "      <td>1.0</td>\n",
       "      <td>1</td>\n",
       "      <td>85</td>\n",
       "      <td>Належить</td>\n",
       "      <td>Не належить</td>\n",
       "    </tr>\n",
       "    <tr>\n",
       "      <th>437</th>\n",
       "      <td>Uma</td>\n",
       "      <td>Uma</td>\n",
       "      <td>0.86</td>\n",
       "      <td>1.0</td>\n",
       "      <td>1</td>\n",
       "      <td>85</td>\n",
       "      <td>Належить</td>\n",
       "      <td>Не належить</td>\n",
       "    </tr>\n",
       "    <tr>\n",
       "      <th>438</th>\n",
       "      <td>Wali</td>\n",
       "      <td>Wally</td>\n",
       "      <td>0.77</td>\n",
       "      <td>1.0</td>\n",
       "      <td>3</td>\n",
       "      <td>82</td>\n",
       "      <td>Належить</td>\n",
       "      <td>Не належить</td>\n",
       "    </tr>\n",
       "  </tbody>\n",
       "</table>\n",
       "<p>439 rows × 8 columns</p>\n",
       "</div>"
      ],
      "text/plain": [
       "                Термін 1            Термін 2  Jaro-Winkler  Soundex  \\\n",
       "0            Mehul Gupta         Meryl Gupta          0.82      0.5   \n",
       "1      John Andrew Lewis   Jahn Andrej Levis          0.82      1.0   \n",
       "2        Cyndi Eric Wood  Candice Erick Waud          0.73      0.5   \n",
       "3             Mary Ellen          Mari Ehlen          0.80      1.0   \n",
       "4    Carlos Alfonzo Diaz         Carlow Diez          0.70      0.5   \n",
       "..                   ...                 ...           ...      ...   \n",
       "434               Sameer              Samir           0.67      1.0   \n",
       "435                 Siya                Sia           0.75      1.0   \n",
       "436                 Tara               Tara           0.89      1.0   \n",
       "437                  Uma                Uma           0.86      1.0   \n",
       "438                 Wali              Wally           0.77      1.0   \n",
       "\n",
       "     Damerau-Levenshtein  Ймовірність належності      Рішення  \\\n",
       "0                      2                      84     Належить   \n",
       "1                      3                      84     Належить   \n",
       "2                      6                       0  Не належить   \n",
       "3                      2                      83     Належить   \n",
       "4                     10                       0  Не належить   \n",
       "..                   ...                     ...          ...   \n",
       "434                    3                      84     Належить   \n",
       "435                    2                      82     Належить   \n",
       "436                    1                      85     Належить   \n",
       "437                    1                      85     Належить   \n",
       "438                    3                      82     Належить   \n",
       "\n",
       "    Рішення (Classic)  \n",
       "0         Не належить  \n",
       "1         Не належить  \n",
       "2         Не належить  \n",
       "3         Не належить  \n",
       "4         Не належить  \n",
       "..                ...  \n",
       "434       Не належить  \n",
       "435       Не належить  \n",
       "436       Не належить  \n",
       "437       Не належить  \n",
       "438       Не належить  \n",
       "\n",
       "[439 rows x 8 columns]"
      ]
     },
     "metadata": {},
     "output_type": "display_data"
    },
    {
     "name": "stdout",
     "output_type": "stream",
     "text": [
      "\n",
      "Топ-10 схожих пар:\n"
     ]
    },
    {
     "data": {
      "text/html": [
       "<div>\n",
       "<style scoped>\n",
       "    .dataframe tbody tr th:only-of-type {\n",
       "        vertical-align: middle;\n",
       "    }\n",
       "\n",
       "    .dataframe tbody tr th {\n",
       "        vertical-align: top;\n",
       "    }\n",
       "\n",
       "    .dataframe thead th {\n",
       "        text-align: right;\n",
       "    }\n",
       "</style>\n",
       "<table border=\"1\" class=\"dataframe\">\n",
       "  <thead>\n",
       "    <tr style=\"text-align: right;\">\n",
       "      <th></th>\n",
       "      <th>Термін 1</th>\n",
       "      <th>Термін 2</th>\n",
       "      <th>Jaro-Winkler</th>\n",
       "      <th>Soundex</th>\n",
       "      <th>Damerau-Levenshtein</th>\n",
       "      <th>Ймовірність належності</th>\n",
       "      <th>Рішення</th>\n",
       "      <th>Рішення (Classic)</th>\n",
       "    </tr>\n",
       "  </thead>\n",
       "  <tbody>\n",
       "    <tr>\n",
       "      <th>170</th>\n",
       "      <td>Ankita Manoj Bhavsar</td>\n",
       "      <td>Ankita Manuj Bhavsar</td>\n",
       "      <td>0.95</td>\n",
       "      <td>1.0</td>\n",
       "      <td>1</td>\n",
       "      <td>86</td>\n",
       "      <td>Належить</td>\n",
       "      <td>Належить</td>\n",
       "    </tr>\n",
       "    <tr>\n",
       "      <th>125</th>\n",
       "      <td>Tristan Carlos Scott</td>\n",
       "      <td>Tristan Carls Scott</td>\n",
       "      <td>0.97</td>\n",
       "      <td>1.0</td>\n",
       "      <td>1</td>\n",
       "      <td>86</td>\n",
       "      <td>Належить</td>\n",
       "      <td>Належить</td>\n",
       "    </tr>\n",
       "    <tr>\n",
       "      <th>128</th>\n",
       "      <td>Arianna Eric Baker</td>\n",
       "      <td>Adrianna Eric Baker</td>\n",
       "      <td>0.97</td>\n",
       "      <td>0.5</td>\n",
       "      <td>1</td>\n",
       "      <td>86</td>\n",
       "      <td>Належить</td>\n",
       "      <td>Не належить</td>\n",
       "    </tr>\n",
       "    <tr>\n",
       "      <th>133</th>\n",
       "      <td>Evelyn Dylan Lewis</td>\n",
       "      <td>Evelyn Dilan Lewis</td>\n",
       "      <td>0.94</td>\n",
       "      <td>1.0</td>\n",
       "      <td>1</td>\n",
       "      <td>86</td>\n",
       "      <td>Належить</td>\n",
       "      <td>Належить</td>\n",
       "    </tr>\n",
       "    <tr>\n",
       "      <th>134</th>\n",
       "      <td>Saanchi Aniruddh Soman</td>\n",
       "      <td>Saanchi Aniruddh Solman</td>\n",
       "      <td>0.98</td>\n",
       "      <td>1.0</td>\n",
       "      <td>1</td>\n",
       "      <td>86</td>\n",
       "      <td>Належить</td>\n",
       "      <td>Належить</td>\n",
       "    </tr>\n",
       "    <tr>\n",
       "      <th>135</th>\n",
       "      <td>Amelia Brayden Walker</td>\n",
       "      <td>Amelia Brayden Walzer</td>\n",
       "      <td>0.95</td>\n",
       "      <td>1.0</td>\n",
       "      <td>1</td>\n",
       "      <td>86</td>\n",
       "      <td>Належить</td>\n",
       "      <td>Належить</td>\n",
       "    </tr>\n",
       "    <tr>\n",
       "      <th>139</th>\n",
       "      <td>Tristan Carlos Scott</td>\n",
       "      <td>Tristan Carlos Shott</td>\n",
       "      <td>0.95</td>\n",
       "      <td>1.0</td>\n",
       "      <td>1</td>\n",
       "      <td>86</td>\n",
       "      <td>Належить</td>\n",
       "      <td>Належить</td>\n",
       "    </tr>\n",
       "    <tr>\n",
       "      <th>140</th>\n",
       "      <td>Allison Cameron Green</td>\n",
       "      <td>Allison Cameron Gleen</td>\n",
       "      <td>0.95</td>\n",
       "      <td>1.0</td>\n",
       "      <td>1</td>\n",
       "      <td>86</td>\n",
       "      <td>Належить</td>\n",
       "      <td>Належить</td>\n",
       "    </tr>\n",
       "    <tr>\n",
       "      <th>142</th>\n",
       "      <td>Arianna Eric Baker</td>\n",
       "      <td>Arianna Eric Backer</td>\n",
       "      <td>0.97</td>\n",
       "      <td>1.0</td>\n",
       "      <td>1</td>\n",
       "      <td>86</td>\n",
       "      <td>Належить</td>\n",
       "      <td>Належить</td>\n",
       "    </tr>\n",
       "    <tr>\n",
       "      <th>144</th>\n",
       "      <td>Adrian Cox</td>\n",
       "      <td>Arian Cox</td>\n",
       "      <td>0.95</td>\n",
       "      <td>0.5</td>\n",
       "      <td>1</td>\n",
       "      <td>86</td>\n",
       "      <td>Належить</td>\n",
       "      <td>Не належить</td>\n",
       "    </tr>\n",
       "  </tbody>\n",
       "</table>\n",
       "</div>"
      ],
      "text/plain": [
       "                   Термін 1                 Термін 2  Jaro-Winkler  Soundex  \\\n",
       "170    Ankita Manoj Bhavsar     Ankita Manuj Bhavsar          0.95      1.0   \n",
       "125    Tristan Carlos Scott      Tristan Carls Scott          0.97      1.0   \n",
       "128      Arianna Eric Baker      Adrianna Eric Baker          0.97      0.5   \n",
       "133      Evelyn Dylan Lewis       Evelyn Dilan Lewis          0.94      1.0   \n",
       "134  Saanchi Aniruddh Soman  Saanchi Aniruddh Solman          0.98      1.0   \n",
       "135   Amelia Brayden Walker    Amelia Brayden Walzer          0.95      1.0   \n",
       "139    Tristan Carlos Scott     Tristan Carlos Shott          0.95      1.0   \n",
       "140   Allison Cameron Green    Allison Cameron Gleen          0.95      1.0   \n",
       "142      Arianna Eric Baker      Arianna Eric Backer          0.97      1.0   \n",
       "144              Adrian Cox                Arian Cox          0.95      0.5   \n",
       "\n",
       "     Damerau-Levenshtein  Ймовірність належності   Рішення Рішення (Classic)  \n",
       "170                    1                      86  Належить          Належить  \n",
       "125                    1                      86  Належить          Належить  \n",
       "128                    1                      86  Належить       Не належить  \n",
       "133                    1                      86  Належить          Належить  \n",
       "134                    1                      86  Належить          Належить  \n",
       "135                    1                      86  Належить          Належить  \n",
       "139                    1                      86  Належить          Належить  \n",
       "140                    1                      86  Належить          Належить  \n",
       "142                    1                      86  Належить          Належить  \n",
       "144                    1                      86  Належить       Не належить  "
      ]
     },
     "metadata": {},
     "output_type": "display_data"
    }
   ],
   "source": [
    "# Перетворюємо дані в DataFrame для fuzzy та класичного методу\n",
    "fuzzy_df = pd.DataFrame(fuzzy_results)\n",
    "classic_df = pd.DataFrame(classic_results)\n",
    "\n",
    "# Додаємо стовпець з класичними рішеннями до таблиці fuzzy\n",
    "fuzzy_df['Рішення (Classic)'] = classic_df['Рішення']\n",
    "\n",
    "# Виведення всієї таблиці з результатами\n",
    "print(\"Результати нечіткої логіки та класичного методу:\")\n",
    "display(fuzzy_df)  # Використовуємо display для виведення таблиці\n",
    "\n",
    "# Топ-10 \n",
    "fuzzy_top_10 = fuzzy_df.sort_values(by=\"Ймовірність належності\", ascending=False).head(10)\n",
    "print(\"\\nТоп-10 схожих пар:\")\n",
    "display(fuzzy_top_10)  # Використовуємо display для виведення таблиці\n"
   ]
  },
  {
   "cell_type": "markdown",
   "id": "9f426b1f-e70f-47b2-9796-80c9264d424a",
   "metadata": {},
   "source": [
    "### Візуалізація функцій належності"
   ]
  },
  {
   "cell_type": "code",
   "execution_count": 66,
   "id": "8d8f6075-752a-4f09-bc1c-05b5f68bf34a",
   "metadata": {},
   "outputs": [
    {
     "data": {
      "image/png": "[encoded data removed]",
      "text/plain": [
       "<Figure size 2000x500 with 4 Axes>"
      ]
     },
     "metadata": {},
     "output_type": "display_data"
    }
   ],
   "source": [
    "def plot_membership_functions():\n",
    "    fig, axes = plt.subplots(1, 4, figsize=(20, 5))\n",
    "    for ax, var, title in zip(\n",
    "        axes,\n",
    "        [similarity, edit_dist, phonetic, membership],\n",
    "        [\"Similarity\", \"Length\", \"Soundex\", \"Membership\"],\n",
    "    ):\n",
    "        for term in var.terms:\n",
    "            ax.plot(var.universe, var[term].mf, label=term)\n",
    "        ax.set_title(title)\n",
    "        ax.legend(loc=\"upper left\")\n",
    "    plt.tight_layout()\n",
    "    plt.show()\n",
    "\n",
    "plot_membership_functions()"
   ]
  },
  {
   "cell_type": "markdown",
   "id": "a60092aa-86ea-43c4-a23c-2d845d529ab4",
   "metadata": {},
   "source": [
    "### Порівняння кількості \"Належить\" і \"Не належить\""
   ]
  },
  {
   "cell_type": "code",
   "execution_count": 69,
   "id": "19f96349-4d80-4cb3-8944-aa4e67aa16b1",
   "metadata": {},
   "outputs": [
    {
     "name": "stdout",
     "output_type": "stream",
     "text": [
      "\n",
      "Порівняння кількості рішень:\n",
      "+-------------+-------+---------+\n",
      "|   Рішення   | Fuzzy | Classic |\n",
      "+-------------+-------+---------+\n",
      "|  Належить   |  393  |   136   |\n",
      "| Не належить |  46   |   303   |\n",
      "+-------------+-------+---------+\n"
     ]
    }
   ],
   "source": [
    "# Підрахунок кількості рішень для обох методів\n",
    "fuzzy_counts = fuzzy_df[\"Рішення\"].value_counts().to_dict()\n",
    "classic_counts = classic_df[\"Рішення\"].value_counts().to_dict()\n",
    "\n",
    "# Створення таблиці порівняння\n",
    "comparison_data = [\n",
    "    [\"Належить\", fuzzy_counts.get(\"Належить\", 0), classic_counts.get(\"Належить\", 0)],\n",
    "    [\"Не належить\", fuzzy_counts.get(\"Не належить\", 0), classic_counts.get(\"Не належить\", 0)]\n",
    "]\n",
    "\n",
    "print(\"\\nПорівняння кількості рішень:\")\n",
    "print(tabulate(comparison_data, headers=[\"Рішення\", \"Fuzzy\", \"Classic\"], tablefmt=\"pretty\"))"
   ]
  },
  {
   "cell_type": "markdown",
   "id": "0c42d300-b169-4025-96f1-9e402a8cd9ac",
   "metadata": {},
   "source": [
    "### Висновок\n",
    "* В ході виконання лабораторної роботи я ознайомилась з принципами нечіткої логіки та застосувала їх для створення системи визначення схожості імен. Було розроблено інтелектуальний модуль, який аналізує пари імен за трьома метриками: Джаро-Вінклер, Soundex та відстань Дамерау-Левенштейна. Порівняння результатів нечіткої системи з класичним методом показало суттєву різницю в кількості класифікованих пар:\n",
    "\n",
    "* Нечітка система: 393 пари \"Належить\", 46 пар \"Не належить\"\n",
    "* Класичний метод: 136 пар \"Належить\", 303 пари \"Не належить\"\n",
    "* Ця різниця пояснюється тим, що нечітка логіка дозволяє більш гнучко оцінювати ступінь схожості, враховуючи різні комбінації метрик, а не просто встановлювати чіткі пороги. Аналіз топ-10 найбільш схожих пар показав, що нечітка система присвоює їм високий ступінь ймовірності належності (86%), що вказує на високу впевненість у своїх рішеннях для цих випадків. Таким чином, застосування нечіткої логіки дозволило створити більш гнучку систему, яка краще справляється з задачею визначення схожих імен порівняно з класичним методом."
   ]
  },
  {
   "cell_type": "code",
   "execution_count": null,
   "id": "ab9c9925-ca62-47b0-a51f-57668bb51c3a",
   "metadata": {},
   "outputs": [],
   "source": []
  }
 ],
 "metadata": {
  "kernelspec": {
   "display_name": "Python 3 (ipykernel)",
   "language": "python",
   "name": "python3"
  },
  "language_info": {
   "codemirror_mode": {
    "name": "ipython",
    "version": 3
   },
   "file_extension": ".py",
   "mimetype": "text/x-python",
   "name": "python",
   "nbconvert_exporter": "python",
   "pygments_lexer": "ipython3",
   "version": "3.12.4"
  }
 },
 "nbformat": 4,
 "nbformat_minor": 5
}
